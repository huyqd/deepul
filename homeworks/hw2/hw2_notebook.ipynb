{
 "cells": [
  {
   "cell_type": "markdown",
   "metadata": {
    "colab_type": "text",
    "id": "5tD_LgWqZ8y1"
   },
   "source": [
    "<a href=\"https://colab.research.google.com/github/rll/deepul/blob/master/homeworks/hw2/hw2_notebook.ipynb\" target=\"_parent\"><img src=\"https://colab.research.google.com/assets/colab-badge.svg\" alt=\"Open In Colab\"/></a>"
   ]
  },
  {
   "cell_type": "markdown",
   "metadata": {
    "colab_type": "text",
    "id": "Rdy1FtrRpGcC"
   },
   "source": [
    "# Getting Started\n",
    "\n",
    "## Overview\n",
    "This semester, all homeworks will be conducted through Google Colab notebooks. All code for the homework assignment will be written and run in this notebook. Running in Colab will automatically provide a GPU, but you may also run this notebook locally by following [these instructions](https://research.google.com/colaboratory/local-runtimes.html) if you wish to use your own GPU.\n",
    "\n",
    "You will save images in the notebooks to use and fill out a given LaTeX template which will be submitted to Gradescope, along with your notebook code.\n",
    "\n",
    "## Using Colab\n",
    "On the left-hand side, you can click the different icons to see a Table of Contents of the assignment, as well as local files accessible through the notebook.\n",
    "\n",
    "Make sure to go to **Runtime -> Change runtime type** and select **GPU** as the hardware accelerator. This allows you to use a GPU. Run the cells below to get started on the assignment. Note that a session is open for a maximum of 12 hours, and using too much GPU compute may result in restricted access for a short period of time. Please start the homework early so you have ample time to work.\n",
    "\n",
    "**If you loaded this notebook from clicking \"Open in Colab\" from github, you will need to save it to your own Google Drive to keep your work.**\n",
    "\n",
    "## General Tips\n",
    "In each homework problem, you will implement an flow model and run it on one to two datasets. We provide the expected outputs to help as a sanity check.\n",
    "\n",
    "Feel free to print whatever output (e.g. debugging code, training code, etc) you want, as the graded submission will be the submitted pdf with images.\n",
    "\n",
    "After you complete the assignment, download all of the image outputted in the results/ folder and upload them to the figure folder in the given latex template.\n",
    "\n",
    "Run the cells below to download and load up the starter code."
   ]
  },
  {
   "cell_type": "code",
   "execution_count": null,
   "metadata": {
    "colab": {
     "base_uri": "https://localhost:8080/",
     "height": 343
    },
    "colab_type": "code",
    "id": "wUVy2glDtoaR",
    "outputId": "51fc7b48-0020-49ea-a8ff-fc3f9e59e9b4"
   },
   "outputs": [],
   "source": [
    "# !if [ -d deepul ]; then rm -Rf deepul; fi\n",
    "# !git clone https://github.com/rll/deepul.git\n",
    "# !pip install ./deepul"
   ]
  },
  {
   "cell_type": "code",
   "execution_count": null,
   "metadata": {},
   "outputs": [],
   "source": [
    "%load_ext autoreload\n",
    "%autoreload 2"
   ]
  },
  {
   "cell_type": "code",
   "execution_count": null,
   "metadata": {
    "colab": {},
    "colab_type": "code",
    "id": "ZHWosWrbpO5Y"
   },
   "outputs": [],
   "source": [
    "import warnings\n",
    "\n",
    "from utils import *\n",
    "\n",
    "from deepul.hw2_helper import *\n",
    "\n",
    "warnings.filterwarnings(\"ignore\")"
   ]
  },
  {
   "cell_type": "markdown",
   "metadata": {
    "colab_type": "text",
    "id": "7E4CMktzo100"
   },
   "source": [
    "# Question 1: 2D Data\n",
    "\n",
    "In this question, we will train two variants of flow models on continuous 2D data. \n",
    "\n",
    "Execute the cell below to visualize our datasets"
   ]
  },
  {
   "cell_type": "code",
   "execution_count": null,
   "metadata": {
    "colab": {
     "base_uri": "https://localhost:8080/",
     "height": 695
    },
    "colab_type": "code",
    "id": "ehhv2FZGo4_b",
    "outputId": "cf37bdb8-229e-4d33-95ae-e6de2c5228ca"
   },
   "outputs": [],
   "source": [
    "visualize_q1_data(dset_type=1)\n",
    "visualize_q1_data(dset_type=2)"
   ]
  },
  {
   "cell_type": "markdown",
   "metadata": {
    "colab_type": "text",
    "id": "kSGTVznZqAR3",
    "tags": []
   },
   "source": [
    "## Part (a) Autoregressive Flow [15pt]\n",
    "\n",
    "In an autoregressive flow, we learn the transformation $z_i = f(x_i ; x_{1:i-1})$. The log-likelihood is then $\\log p_\\theta(x) = \\sum_{i=1}^d \\log p(z_i) + \\log |\\frac{dz_i}{dx_i}|$ because the Jacobian is triangular. For each dimension, use the CDF of a mixture of Gaussians or Logistics to map to the latent space, which should be $z_i \\sim \\text{Unif}[0, 1]$ i.i.d..\n",
    "\n",
    "Fit $p_\\theta$ with maximum likelihood via stochastic gradient descent on the training set. Since this is a 2D problem, you can either learn $z_0 = f(x_0)$ and $z_1 = f(x_1; x_0)$ together with a MADE model, or with separate networks. Use your favorite version of stochastic gradient descent, and optimize your hyperparameters on a validation set of your choice.\n",
    "\n",
    "**You will provide these deliverables**\n",
    "\n",
    "\n",
    "1.   Over the course of training, record the average negative log-likelihood (nats / dim) of the training data (per minibatch) and test data (for your entire test set). Code is provided that automatically plots the training curves. \n",
    "2.   Report the final test set performance of your final model\n",
    "3. Show a heatmap of the densities learned by your model\n",
    "4. Show what the training set looks like when mapped to the latent space. \n",
    "\n",
    "\n"
   ]
  },
  {
   "cell_type": "markdown",
   "metadata": {
    "colab_type": "text",
    "id": "Yg0Jmo1PSaE4",
    "tags": []
   },
   "source": [
    "### Solution\n",
    "Fill out the function below and return the necessary arguments. Feel free to create more cells if need be."
   ]
  },
  {
   "cell_type": "code",
   "execution_count": null,
   "metadata": {
    "colab": {},
    "colab_type": "code",
    "id": "BJNa6dHKpEQU"
   },
   "outputs": [],
   "source": [
    "def q1_a(train_data, test_data, dset_id):\n",
    "    \"\"\"\n",
    "    train_data: An (n_train, 2) numpy array of floats in R^2\n",
    "    test_data: An (n_test, 2) numpy array of floats in R^2\n",
    "    dset_id: An identifying number of which dataset is given (1 or 2). Most likely\n",
    "               used to set different hyperparameters for different datasets, or\n",
    "               for plotting a different region of densities\n",
    "\n",
    "    Returns\n",
    "    - a (# of training iterations,) numpy array of train_losses evaluated every minibatch\n",
    "    - a (# of epochs + 1,) numpy array of test_losses evaluated once at initialization and after each epoch\n",
    "    - a numpy array of size (?,) of probabilities with values in [0, +infinity).\n",
    "        Refer to the commented hint.\n",
    "    - a numpy array of size (n_train, 2) of floats in [0,1]^2. This represents\n",
    "        mapping the train set data points through our flow to the latent space.\n",
    "    \"\"\"\n",
    "\n",
    "    \"\"\" YOUR CODE HERE \"\"\"\n",
    "    # create data loaders\n",
    "    train_dl = torch.utils.data.DataLoader(\n",
    "        ImageDataset(train_data),\n",
    "        batch_size=128,\n",
    "        shuffle=True,\n",
    "    )\n",
    "    test_dl = torch.utils.data.DataLoader(\n",
    "        ImageDataset(test_data),\n",
    "        batch_size=128,\n",
    "        shuffle=True,\n",
    "    )\n",
    "\n",
    "    # model\n",
    "    ar_flow = AutoregressiveFlow()\n",
    "\n",
    "    # train\n",
    "    train_args = dict(\n",
    "        epochs=100,\n",
    "        lr=5e-3,\n",
    "        base_dist=\"uniform\",\n",
    "    )\n",
    "    pl_module, train_losses, test_losses = train_model(\n",
    "        [ar_flow],\n",
    "        train_dl,\n",
    "        test_dl,\n",
    "        train_args,\n",
    "    )\n",
    "\n",
    "    # heatmap\n",
    "    dx, dy = 0.025, 0.025\n",
    "    if dset_id == 1:  # face\n",
    "        x_lim = (-4, 4)\n",
    "        y_lim = (-4, 4)\n",
    "    elif dset_id == 2:  # two moons\n",
    "        x_lim = (-1.5, 2.5)\n",
    "        y_lim = (-1, 1.5)\n",
    "    y, x = np.mgrid[\n",
    "        slice(y_lim[0], y_lim[1] + dy, dy), slice(x_lim[0], x_lim[1] + dx, dx)\n",
    "    ]\n",
    "    mesh_xs = torch.FloatTensor(np.stack([x, y], axis=2).reshape(-1, 2))\n",
    "    with torch.no_grad():\n",
    "        densities = np.exp(pl_module.log_prob(mesh_xs).numpy())\n",
    "\n",
    "        # latents\n",
    "        latents, _ = pl_module.flow(torch.FloatTensor(train_data))\n",
    "\n",
    "    return train_losses, test_losses, densities, latents"
   ]
  },
  {
   "cell_type": "markdown",
   "metadata": {
    "colab_type": "text",
    "id": "SiGBSP-ESeIj",
    "tags": []
   },
   "source": [
    "### Results\n",
    "\n",
    "Once you've implemented `q1_a`, execute the cells below to visualize and save your results\n",
    "\n"
   ]
  },
  {
   "cell_type": "code",
   "execution_count": null,
   "metadata": {
    "colab": {
     "base_uri": "https://localhost:8080/",
     "height": 874,
     "referenced_widgets": [
      "7a7a1e7d8184498cbeba151e810b063d",
      "6cbb0ecbf2534e808d11b8b73f4381dc",
      "4757025924a242268916ec5a7018047d",
      "c5835b4964d14f1dbfdf3cdd9f60d494",
      "8a648738a4ba45b5965a917fe4beab92",
      "8ad5177faa894bf6902daa3274d11007",
      "d4ae5b64ad24438eb6444532de970923",
      "8942e1f4d98b4c9385c19d450958e4e8"
     ]
    },
    "colab_type": "code",
    "id": "qjK_KReXsqYa",
    "outputId": "c00f8dfe-32f8-4bd4-8992-1c43f5e6225f"
   },
   "outputs": [],
   "source": [
    "q1_save_results(1, \"a\", q1_a)"
   ]
  },
  {
   "cell_type": "code",
   "execution_count": null,
   "metadata": {
    "colab": {},
    "colab_type": "code",
    "id": "uS4CtXRxX_Uk"
   },
   "outputs": [],
   "source": [
    "q1_save_results(2, \"a\", q1_a)"
   ]
  },
  {
   "cell_type": "markdown",
   "metadata": {
    "colab_type": "text",
    "id": "DiyFXlj0rfcr",
    "tags": []
   },
   "source": [
    "## Part (b) RealNVP [15pt]\n",
    "In this part, we want to train a flow with the following structure: \n",
    "$(z_1, z_2) = (f_{\\theta, 1} \\circ \\cdots \\circ f_{\\theta, n})$, \n",
    "where each $f_{\\theta, i}$ is an affine transformation of 1 dimension, conditioned on the other, and $z \\sim N(0, I)$. According to [Density Estimation Using Real NVP](https://arxiv.org/abs/1605.08803) Section 4.1, there's a particularly good way to parameterize the affine transformation:\n",
    "\n",
    "Assuming that we're conditioning on $x_1$ and transforming $x_2$, we have \n",
    "\n",
    "- $z_1 = x_1$\n",
    "\n",
    "- $ \\text{log_scale} = \\text{scale} \\times tanh(g_{\\theta, \\text{scale}}(x_1)) + \\text{scale_shift}$\n",
    "\n",
    "- $z_2 = exp(\\text{log_scale}) \\times x_2 + g_{\\theta, \\text{shift}}(x_1)$\n",
    "\n",
    "where $g_\\theta$, $\\text{scale}$, and $\\text{scale_shift}$ are all learned parameters.\n",
    "\n",
    "\n",
    "**Train a RealNVP model and provide the same set of corresponding deliverables as part (a)**"
   ]
  },
  {
   "cell_type": "markdown",
   "metadata": {
    "colab_type": "text",
    "id": "f4dnQIg_TDx6"
   },
   "source": [
    "### Solution\n",
    "Fill out the function below and return the necessary arguments. Feel free to create more cells if need be."
   ]
  },
  {
   "cell_type": "code",
   "execution_count": null,
   "metadata": {
    "colab": {},
    "colab_type": "code",
    "id": "uAvMQDJJrjNo",
    "tags": []
   },
   "outputs": [],
   "source": [
    "def q1_b(train_data, test_data, dset_id):\n",
    "    \"\"\"\n",
    "    train_data: An (n_train, 2) numpy array of floats in R^2\n",
    "    test_data: An (n_test, 2) numpy array of floats in R^2\n",
    "    dset_id: An identifying number of which dataset is given (1 or 2). Most likely\n",
    "               used to set different hyperparameters for different datasets, or\n",
    "               for plotting a different region of densities\n",
    "\n",
    "    Returns\n",
    "    - a (# of training iterations,) numpy array of train_losses evaluated every minibatch\n",
    "    - a (# of epochs + 1,) numpy array of test_losses evaluated once at initialization and after each epoch\n",
    "    - a numpy array of size (?,) of probabilities with values in [0, +infinity).\n",
    "        Refer to the commented hint.\n",
    "    - a numpy array of size (n_train, 2) of floats in R^2. This represents\n",
    "        mapping the train set data points through our flow to the latent space.\n",
    "    \"\"\"\n",
    "\n",
    "    \"\"\" YOUR CODE HERE \"\"\"\n",
    "    train_dl = torch.utils.data.DataLoader(\n",
    "        ImageDataset(train_data),\n",
    "        batch_size=128,\n",
    "        shuffle=True,\n",
    "    )\n",
    "    test_dl = torch.utils.data.DataLoader(\n",
    "        ImageDataset(test_data),\n",
    "        batch_size=128,\n",
    "        shuffle=False,\n",
    "    )\n",
    "\n",
    "    # train\n",
    "    train_args = dict(\n",
    "        epochs=100,\n",
    "        lr=5e-3,\n",
    "        base_dist=\"normal\",\n",
    "    )\n",
    "    pl_module, train_losses, test_losses = train_model(\n",
    "        [\n",
    "            AffineFlow(\"left\"),\n",
    "            AffineFlow(\"right\"),\n",
    "            AffineFlow(\"left\"),\n",
    "            AffineFlow(\"right\"),\n",
    "            AffineFlow(\"left\"),\n",
    "            AffineFlow(\"right\"),\n",
    "        ],\n",
    "        train_dl,\n",
    "        test_dl,\n",
    "        train_args,\n",
    "    )\n",
    "\n",
    "    # heatmap\n",
    "    dx, dy = 0.025, 0.025\n",
    "    if dset_id == 1:  # face\n",
    "        x_lim = (-4, 4)\n",
    "        y_lim = (-4, 4)\n",
    "    elif dset_id == 2:  # two moons\n",
    "        x_lim = (-1.5, 2.5)\n",
    "        y_lim = (-1, 1.5)\n",
    "    y, x = np.mgrid[\n",
    "        slice(y_lim[0], y_lim[1] + dy, dy), slice(x_lim[0], x_lim[1] + dx, dx)\n",
    "    ]\n",
    "    mesh_xs = torch.FloatTensor(np.stack([x, y], axis=2).reshape(-1, 2))\n",
    "    with torch.no_grad():\n",
    "        densities = np.exp(pl_module.log_prob(mesh_xs).numpy())\n",
    "\n",
    "        # latents\n",
    "        latents, _ = pl_module.flow(torch.FloatTensor(train_data))\n",
    "\n",
    "    return train_losses, test_losses, densities, latents"
   ]
  },
  {
   "cell_type": "markdown",
   "metadata": {
    "colab_type": "text",
    "id": "VwZyhlewTHH4"
   },
   "source": [
    "### Results\n",
    "\n",
    "Once you've implemented `q1_b`, execute the cells below to visualize and save your results\n",
    "\n"
   ]
  },
  {
   "cell_type": "code",
   "execution_count": null,
   "metadata": {
    "colab": {
     "base_uri": "https://localhost:8080/",
     "height": 874,
     "referenced_widgets": [
      "698eb0108e154b799b0bc85f12215c54",
      "e43bfafcb08344a89b3c4bbc1e4c1045",
      "8d83151bc7c540e1824cfaf1079c2649",
      "15f9f7bea21447a587cbe113bd8f1db8",
      "4a5f8210c0314f6a924f3fbb1f816a47",
      "26279b5b00d249d08db193c5d458d788",
      "925588a883d24a239f2dce621f3c3474",
      "af99978dfe194c5cabc7a22566a73f32"
     ]
    },
    "colab_type": "code",
    "id": "wnnQORaG6Ouf",
    "outputId": "6e080d9e-3717-497e-bc31-4bac813d00fa"
   },
   "outputs": [],
   "source": [
    "q1_save_results(1, \"b\", q1_b)"
   ]
  },
  {
   "cell_type": "code",
   "execution_count": null,
   "metadata": {
    "colab": {},
    "colab_type": "code",
    "id": "zz8DdjFTYJpH"
   },
   "outputs": [],
   "source": [
    "q1_save_results(2, \"b\", q1_b)"
   ]
  },
  {
   "cell_type": "markdown",
   "metadata": {
    "colab_type": "text",
    "id": "bk6l6G30tEIg"
   },
   "source": [
    "# Question 2: Autoregressive Flows for Images [20pt]\n",
    "We can scale up the autoregressive flows from 1(a) to high-dimensional image data. In this question, we will focus on the black-and-white shapes dataset from Homework 1."
   ]
  },
  {
   "cell_type": "code",
   "execution_count": null,
   "metadata": {
    "colab": {
     "base_uri": "https://localhost:8080/",
     "height": 264
    },
    "colab_type": "code",
    "id": "alF9C1t-tEys",
    "outputId": "15203037-194c-4a4d-b26a-0897070864b1"
   },
   "outputs": [],
   "source": [
    "visualize_q2_data()"
   ]
  },
  {
   "cell_type": "markdown",
   "metadata": {
    "colab_type": "text",
    "id": "sDywq5JZR4Eg"
   },
   "source": [
    "Adapt your PixelCNN implementation from Homework 1 and use it as an autoregressive flow model on the black-and-white shapes dataset. Using the base architecture from Homework 1 3(a), output a mixture of logistics or gaussians (instead of logits), whose CDF we will use as our flow for each dimension of x. \n",
    "\n",
    "Remember: you must dequantize the data and scale it between 0 and 1 for the autoregressive flow to have stable training. \n",
    "\n",
    "**You will provide these deliverables**\n",
    "\n",
    "1.   Over the course of training, record the average negative log-likelihood (nats / dim) of the training data (per minibatch) and test data (for your entire test set). Code is provided that automatically plots the training curves. **Make sure to account for any rescaling you do in your nats/dim.**\n",
    "2.   Report the final test set performance of your final model\n",
    "3. 100 samples from your autoregressive flow. Our plotting code will show your samples, with and without clipping and flooring (to remove the quantization). \n"
   ]
  },
  {
   "cell_type": "markdown",
   "metadata": {
    "colab_type": "text",
    "id": "fHHxHqSJTSAa"
   },
   "source": [
    "### Solution\n",
    "Fill out the function below and return the necessary arguments. Feel free to create more cells if need be."
   ]
  },
  {
   "cell_type": "code",
   "execution_count": null,
   "metadata": {},
   "outputs": [],
   "source": [
    "train_data, test_data = load_pickled_data(join('data', 'shapes.pkl'))"
   ]
  },
  {
   "cell_type": "code",
   "execution_count": null,
   "metadata": {
    "colab": {},
    "colab_type": "code",
    "id": "wtFZU2ymB6_t"
   },
   "outputs": [],
   "source": [
    "def q2(train_data, test_data):\n",
    "    \"\"\"\n",
    "    train_data: A (n_train, H, W, 1) uint8 numpy array of binary images with values in {0, 1}\n",
    "    test_data: A (n_test, H, W, 1) uint8 numpy array of binary images with values in {0, 1}\n",
    "    H = W = 20\n",
    "    Note that you should dequantize your train and test data, your dequantized pixels should all lie in [0,1]\n",
    "\n",
    "    Returns\n",
    "    - a (# of training iterations,) numpy array of train_losses evaluated every minibatch\n",
    "    - a (# of epochs + 1,) numpy array of test_losses evaluated once at initialization and after each epoch\n",
    "    - a numpy array of size (100, H, W, 1) of samples with values in [0, 1], where [0,0.5] represents a black pixel\n",
    "        and [0.5,1] represents a white pixel. We will show your samples with and without noise.\n",
    "    \"\"\"\n",
    "\n",
    "    \"\"\" YOUR CODE HERE \"\"\""
   ]
  },
  {
   "cell_type": "markdown",
   "metadata": {
    "colab_type": "text",
    "id": "Iso12bj4Tup8"
   },
   "source": [
    "### Results\n",
    "\n",
    "Once you've implemented `q2`, execute the cells below to visualize and save your results\n",
    "\n"
   ]
  },
  {
   "cell_type": "code",
   "execution_count": null,
   "metadata": {
    "colab": {
     "base_uri": "https://localhost:8080/",
     "height": 874,
     "referenced_widgets": [
      "031222ecfbd1416ebfab07078a05e758",
      "7e4cec4e23d6474b99b1f33e9318e794",
      "a1ddcfc21b7242aa81b49c0ebfad1b10",
      "79a82421d1d74b9483c3ebeff28a246e",
      "cca9f1ae95de4905a514cd177bdfb314",
      "6eacf0262ddb4c908b71a45db6c47756",
      "a48a69ade6ae45709aa89cf468a9e82a",
      "0c17d72b33444ac1acec6d4ecbe99adb"
     ]
    },
    "colab_type": "code",
    "id": "njfGrZ74Jm2d",
    "outputId": "b57dff77-b3a2-44af-87c6-cb3334677144"
   },
   "outputs": [],
   "source": [
    "q2_save_results(q2)"
   ]
  },
  {
   "cell_type": "markdown",
   "metadata": {
    "colab_type": "text",
    "id": "dP8lmmk7Xrct"
   },
   "source": [
    "# Question 3: RealNVP on Higher Dimensions\n"
   ]
  },
  {
   "cell_type": "markdown",
   "metadata": {
    "colab_type": "text",
    "id": "4wnyhDNqcAcw"
   },
   "source": [
    "In this problem, you will train a flow model to invertibly map a high dimensional dataset of celebrity\n",
    "faces to gaussian noise. The dataset is a low-resolution (32 × 32) version of the CelebA-HQ dataset that has been quantized to 2 bits per color channel.\n",
    "\n"
   ]
  },
  {
   "cell_type": "code",
   "execution_count": null,
   "metadata": {
    "colab": {
     "base_uri": "https://localhost:8080/",
     "height": 264
    },
    "colab_type": "code",
    "id": "ysoGwlFaftC1",
    "outputId": "7a63e1c1-48b8-437d-e1b4-c199904db473"
   },
   "outputs": [],
   "source": [
    "visualize_q3_data()"
   ]
  },
  {
   "cell_type": "markdown",
   "metadata": {
    "colab_type": "text",
    "id": "iEMfKiqmfzJp"
   },
   "source": [
    "## Part (a): RealNVP [40pt]"
   ]
  },
  {
   "cell_type": "markdown",
   "metadata": {
    "colab_type": "text",
    "id": "ZSGU6Mz3ftZe"
   },
   "source": [
    "Use the affine coupling flow from RealNVP and a form of [data-dependent initialization](https://arxiv.org/abs/1602.07868) that normalizes activations from an initial forward pass with a minibatch.\n",
    "We describe a reference architecture below that can achieve good performance, but you are free\n",
    "and encouraged to use different architectures and/or structure your code differently."
   ]
  },
  {
   "cell_type": "markdown",
   "metadata": {
    "colab_type": "text",
    "id": "QO6i0oY5CBGh"
   },
   "source": [
    "\n",
    "\n",
    "```\n",
    "Preprocess() # dequantization, logit trick from RealNVP (Dinh et al) Section 4.1\n",
    "\n",
    "for _ in range(4):\n",
    "  AffineCouplingWithCheckerboard() # Figure 3 in Dinh et al - (left)\n",
    "  ActNorm() # described in Glow (Kingma & Dhariwal) Section 3.1\n",
    "Squeeze(), # [b, c, h, w] --> [b, c*4, h//2, w//2]\n",
    "\n",
    "for _ in range(3):\n",
    "  AffineCouplingWithChannel()\n",
    "  ActNorm()\n",
    "Unsqueeze(), # [b, c*4, h//2, w//2] --> [b, c, h, w]\n",
    "\n",
    "for _ in range(3):\n",
    "  AffineCouplingWithCheckerboard()\n",
    "  ActNorm()\n",
    "```\n",
    "\n"
   ]
  },
  {
   "cell_type": "markdown",
   "metadata": {
    "colab_type": "text",
    "id": "TX1Kyl8EBF45"
   },
   "source": [
    "Here, we provide pseudocode for the basic structure of each coupling layer. "
   ]
  },
  {
   "cell_type": "markdown",
   "metadata": {
    "colab_type": "text",
    "id": "FyCXu1PSrIUb"
   },
   "source": [
    "\n",
    "\n",
    "```\n",
    "# pseudocode\n",
    "ResnetBlock: n_filters\n",
    "  h = x\n",
    "  h = conv2d(n_filters, n_filters, (1,1), stride=1, padding=0)(h)\n",
    "  h = relu(h)\n",
    "  h = conv2d(n_filters, n_filters, (3,3), stride=1, padding=1)(h)\n",
    "  h = relu(h)\n",
    "  h = conv2d(n_filters, n_filters, (1,1), stride=1, padding=0)(h)\n",
    "  return h + x\n",
    "\n",
    "SimpleResnet: n_filters = 128, n_blocks = 8, n_out\n",
    "  conv2d(in_channels, n_filters=n_filters, (3,3), stride=1, padding=1)\n",
    "  apply 8 ResnetBlocks with n_filters=n_filters\n",
    "  relu()\n",
    "  conv2d(in_channels=n_filters, out_channels=n_out, (3,3), stride=1, padding=1)\n",
    "  \n",
    "AffineCoupling(x, mask):\n",
    "  x_ = x * mask\n",
    "  log_s, t = torch.chunk(SimpleResnet(x_), 2, dim=1)\n",
    "  # calculate log_scale, as done in Q1(b)\n",
    "  t = t * (1.0 - mask)\n",
    "  log_scale = log_scale * (1.0 - mask)\n",
    "  z = x * torch.exp(log_scale) + t\n",
    "  log_det_jacobian = log_scale\n",
    "  return z, log_det_jacobian\n",
    "```\n",
    "\n"
   ]
  },
  {
   "cell_type": "markdown",
   "metadata": {
    "colab_type": "text",
    "id": "rT4Mi1PlBb5B"
   },
   "source": [
    "We use an Adam Optimizer with a warmup over 200 steps till a learning rate of 5e-4. We didn’t decay the learning rate but it is a generally recommended practice while training generative models. We show samples from our model at the end of training, as well as interpolations between several images in our dataset.  Our reference solution achieves a test loss of about 0.55 bits/dim after 100 epochs. \n",
    "\n"
   ]
  },
  {
   "cell_type": "markdown",
   "metadata": {
    "colab_type": "text",
    "id": "50WsEzhx4Uua"
   },
   "source": [
    "**You will provide these deliverables**\n",
    "\n",
    "\n",
    "1.   Over the course of training, record the average negative log-likelihood (nats / dim) of the training data (per minibatch) and test data (for your entire test set). Code is provided that automatically plots the training curves. \n",
    "2.   Report the final test set performance of your final model\n",
    "3. 100 samples from the final trained model\n",
    "4. 5 rows of interpolations between images in the test set; each row consists of the start and end images, and 4 intermediate ones. You should return 30 total images. \n",
    "\n"
   ]
  },
  {
   "cell_type": "markdown",
   "metadata": {
    "colab_type": "text",
    "id": "EleefdNuciyc"
   },
   "source": [
    "### Solution\n",
    "Fill out the function below and return the necessary arguments. Feel free to create more cells if need be."
   ]
  },
  {
   "cell_type": "code",
   "execution_count": null,
   "metadata": {
    "colab": {},
    "colab_type": "code",
    "id": "NWualafa-tpD"
   },
   "outputs": [],
   "source": [
    "def q3_a(train_data, test_data):\n",
    "    \"\"\"\n",
    "    train_data: A (n_train, H, W, 3) uint8 numpy array of quantized images with values in {0, 1, 2, 3}\n",
    "    test_data: A (n_test, H, W, 3) uint8 numpy array of binary images with values in {0, 1, 2, 3}\n",
    "\n",
    "    Returns\n",
    "    - a (# of training iterations,) numpy array of train_losses evaluated every minibatch\n",
    "    - a (# of epochs + 1,) numpy array of test_losses evaluated once at initialization and after each epoch\n",
    "    - a numpy array of size (100, H, W, 3) of samples with values in [0, 1]\n",
    "    - a numpy array of size (30, H, W, 3) of interpolations with values in [0, 1].\n",
    "    \"\"\"\n",
    "\n",
    "    \"\"\" YOUR CODE HERE \"\"\""
   ]
  },
  {
   "cell_type": "markdown",
   "metadata": {
    "colab_type": "text",
    "id": "v0EPVfz1cpq0"
   },
   "source": [
    "### Results\n",
    "\n",
    "Once you've implemented `q3_a`, execute the cells below to visualize and save your results\n",
    "\n"
   ]
  },
  {
   "cell_type": "code",
   "execution_count": null,
   "metadata": {
    "colab": {
     "base_uri": "https://localhost:8080/",
     "height": 531
    },
    "colab_type": "code",
    "id": "xNxXqVZpAd_V",
    "outputId": "9a90a873-6989-4d36-8109-41e1ab195908"
   },
   "outputs": [],
   "source": [
    "q3_save_results(q3_a, \"a\")"
   ]
  },
  {
   "cell_type": "markdown",
   "metadata": {
    "colab_type": "text",
    "id": "1Hi51jz3f50m"
   },
   "source": [
    "## Part (b): Exploring bad masking schemes [10pt]\n",
    "\n",
    "As shown in lecture, the choice of masking or partitioning scheme affects the quality of the final flow model. In this part, design a *bad* masking scheme and train a model with it on the same CelebA dataset. \n",
    "\n",
    "**Provide the same deliverables as part (a)**"
   ]
  },
  {
   "cell_type": "code",
   "execution_count": null,
   "metadata": {
    "colab": {},
    "colab_type": "code",
    "id": "3Pw-8auZf6oE"
   },
   "outputs": [],
   "source": [
    "def q3_b(train_data, test_data):\n",
    "    \"\"\"\n",
    "    train_data: A (n_train, H, W, 3) uint8 numpy array of quantized images with values in {0, 1, 2, 3}\n",
    "    test_data: A (n_test, H, W, 3) uint8 numpy array of binary images with values in {0, 1, 2, 3}\n",
    "\n",
    "    Returns\n",
    "    - a (# of training iterations,) numpy array of train_losses evaluated every minibatch\n",
    "    - a (# of epochs + 1,) numpy array of test_losses evaluated once at initialization and after each epoch\n",
    "    - a numpy array of size (100, H, W, 3) of samples with values in [0, 1]\n",
    "    - a numpy array of size (30, H, W, 3) of interpolations with values in [0, 1].\n",
    "    \"\"\"\n",
    "\n",
    "    \"\"\" YOUR CODE HERE \"\"\""
   ]
  },
  {
   "cell_type": "code",
   "execution_count": null,
   "metadata": {
    "colab": {
     "base_uri": "https://localhost:8080/",
     "height": 359
    },
    "colab_type": "code",
    "id": "DGYtb_1Tf6nA",
    "outputId": "754b622c-6d80-4ec4-b30a-fcf9624de40d"
   },
   "outputs": [],
   "source": [
    "q3_save_results(q3_b, \"b\")"
   ]
  },
  {
   "cell_type": "markdown",
   "metadata": {
    "colab_type": "text",
    "id": "LMZLcaHwLNNL"
   },
   "source": [
    "# Question 4: Bonus Questions (Optional)"
   ]
  },
  {
   "cell_type": "markdown",
   "metadata": {
    "colab_type": "text",
    "id": "PEI31Zh0PE9g"
   },
   "source": [
    "## Q4(a): Multiscale RealNVP [10pt]\n",
    "Following the alternating checkerboard, channel squeeze, and channel partition scheme used in https://arxiv.org/abs/1605.08803, learn a multiscale RealNVP model on our CelebA dataset used in Question 3. We expect the same deliverables as in Question 3; additionally, make sure to include analysis on any difference in qualitative or quantitative differences you see in the results."
   ]
  },
  {
   "cell_type": "code",
   "execution_count": null,
   "metadata": {
    "colab": {},
    "colab_type": "code",
    "id": "jboOas0xXYjG"
   },
   "outputs": [],
   "source": [
    "def q4_a(train_data, test_data):\n",
    "    \"\"\"\n",
    "    train_data: A (n_train, H, W, 3) uint8 numpy array of quantized images with values in {0, 1, 2, 3}\n",
    "    test_data: A (n_test, H, W, 3) uint8 numpy array of binary images with values in {0, 1, 2, 3}\n",
    "\n",
    "    Returns\n",
    "    - a (# of training iterations,) numpy array of train_losses evaluated every minibatch\n",
    "    - a (# of epochs + 1,) numpy array of test_losses evaluated once at initialization and after each epoch\n",
    "    - a numpy array of size (100, H, W, 3) of samples with values in [0, 1]\n",
    "    - a numpy array of size (30, H, W, 3) of interpolations with values in [0, 1].\n",
    "    \"\"\"\n",
    "\n",
    "    \"\"\" YOUR CODE HERE \"\"\""
   ]
  },
  {
   "cell_type": "code",
   "execution_count": null,
   "metadata": {
    "colab": {},
    "colab_type": "code",
    "id": "p8zWH_SnPwcN"
   },
   "outputs": [],
   "source": [
    "q3_save_results(q4_a, \"bonus_a\")"
   ]
  },
  {
   "cell_type": "markdown",
   "metadata": {
    "colab_type": "text",
    "id": "0oMGXWMzP4oO"
   },
   "source": [
    "## Q4(b): Glow [5pt]\n",
    "The Glow paper introduces the invertible 1x1 convolution as a replacement for the permutation scheme that follows the channel squeezing step. Use this in your model from Question 3, and report the same deliverables. Make sure to include analysis on any difference in qualitative or quantitative differences you see in the results."
   ]
  },
  {
   "cell_type": "code",
   "execution_count": null,
   "metadata": {
    "colab": {},
    "colab_type": "code",
    "id": "d-qpWL8XXawq"
   },
   "outputs": [],
   "source": [
    "def q4_b(train_data, test_data):\n",
    "    \"\"\"\n",
    "    train_data: A (n_train, H, W, 3) uint8 numpy array of quantized images with values in {0, 1, 2, 3}\n",
    "    test_data: A (n_test, H, W, 3) uint8 numpy array of binary images with values in {0, 1, 2, 3}\n",
    "\n",
    "    Returns\n",
    "    - a (# of training iterations,) numpy array of train_losses evaluated every minibatch\n",
    "    - a (# of epochs + 1,) numpy array of test_losses evaluated once at initialization and after each epoch\n",
    "    - a numpy array of size (100, H, W, 3) of samples with values in [0, 1]\n",
    "    - a numpy array of size (30, H, W, 3) of interpolations with values in [0, 1].\n",
    "    \"\"\"\n",
    "\n",
    "    \"\"\" YOUR CODE HERE \"\"\""
   ]
  },
  {
   "cell_type": "code",
   "execution_count": null,
   "metadata": {
    "colab": {},
    "colab_type": "code",
    "id": "CbGUrt3NQPWk"
   },
   "outputs": [],
   "source": [
    "q3_save_results(q4_b, \"bonus_b\")"
   ]
  },
  {
   "cell_type": "markdown",
   "metadata": {
    "colab_type": "text",
    "id": "QF0RJz4nVVp8"
   },
   "source": [
    "# File Saving Utility\n"
   ]
  },
  {
   "cell_type": "code",
   "execution_count": null,
   "metadata": {
    "colab": {},
    "colab_type": "code",
    "id": "tfg8RZ01L8h8"
   },
   "outputs": [],
   "source": [
    "# one way to save files\n",
    "import os\n",
    "import os.path as osp\n",
    "\n",
    "from google.colab import files\n",
    "\n",
    "for fname in os.listdir(\"results\"):\n",
    "    files.download(\"results/\" + fname)"
   ]
  }
 ],
 "metadata": {
  "accelerator": "GPU",
  "colab": {
   "collapsed_sections": [],
   "name": "hw2_notebook.ipynb",
   "provenance": [],
   "toc_visible": true
  },
  "kernelspec": {
   "display_name": "Python 3 (ipykernel)",
   "language": "python",
   "name": "python3"
  },
  "language_info": {
   "codemirror_mode": {
    "name": "ipython",
    "version": 3
   },
   "file_extension": ".py",
   "mimetype": "text/x-python",
   "name": "python",
   "nbconvert_exporter": "python",
   "pygments_lexer": "ipython3",
   "version": "3.9.7"
  },
  "widgets": {
   "application/vnd.jupyter.widget-state+json": {
    "031222ecfbd1416ebfab07078a05e758": {
     "model_module": "@jupyter-widgets/controls",
     "model_name": "HBoxModel",
     "state": {
      "_dom_classes": [],
      "_model_module": "@jupyter-widgets/controls",
      "_model_module_version": "1.5.0",
      "_model_name": "HBoxModel",
      "_view_count": null,
      "_view_module": "@jupyter-widgets/controls",
      "_view_module_version": "1.5.0",
      "_view_name": "HBoxView",
      "box_style": "",
      "children": [
       "IPY_MODEL_a1ddcfc21b7242aa81b49c0ebfad1b10",
       "IPY_MODEL_79a82421d1d74b9483c3ebeff28a246e"
      ],
      "layout": "IPY_MODEL_7e4cec4e23d6474b99b1f33e9318e794"
     }
    },
    "0c17d72b33444ac1acec6d4ecbe99adb": {
     "model_module": "@jupyter-widgets/base",
     "model_name": "LayoutModel",
     "state": {
      "_model_module": "@jupyter-widgets/base",
      "_model_module_version": "1.2.0",
      "_model_name": "LayoutModel",
      "_view_count": null,
      "_view_module": "@jupyter-widgets/base",
      "_view_module_version": "1.2.0",
      "_view_name": "LayoutView",
      "align_content": null,
      "align_items": null,
      "align_self": null,
      "border": null,
      "bottom": null,
      "display": null,
      "flex": null,
      "flex_flow": null,
      "grid_area": null,
      "grid_auto_columns": null,
      "grid_auto_flow": null,
      "grid_auto_rows": null,
      "grid_column": null,
      "grid_gap": null,
      "grid_row": null,
      "grid_template_areas": null,
      "grid_template_columns": null,
      "grid_template_rows": null,
      "height": null,
      "justify_content": null,
      "justify_items": null,
      "left": null,
      "margin": null,
      "max_height": null,
      "max_width": null,
      "min_height": null,
      "min_width": null,
      "object_fit": null,
      "object_position": null,
      "order": null,
      "overflow": null,
      "overflow_x": null,
      "overflow_y": null,
      "padding": null,
      "right": null,
      "top": null,
      "visibility": null,
      "width": null
     }
    },
    "15f9f7bea21447a587cbe113bd8f1db8": {
     "model_module": "@jupyter-widgets/controls",
     "model_name": "HTMLModel",
     "state": {
      "_dom_classes": [],
      "_model_module": "@jupyter-widgets/controls",
      "_model_module_version": "1.5.0",
      "_model_name": "HTMLModel",
      "_view_count": null,
      "_view_module": "@jupyter-widgets/controls",
      "_view_module_version": "1.5.0",
      "_view_name": "HTMLView",
      "description": "",
      "description_tooltip": null,
      "layout": "IPY_MODEL_af99978dfe194c5cabc7a22566a73f32",
      "placeholder": "​",
      "style": "IPY_MODEL_925588a883d24a239f2dce621f3c3474",
      "value": "100% 250/250 [00:38&lt;00:00,  6.52it/s]"
     }
    },
    "26279b5b00d249d08db193c5d458d788": {
     "model_module": "@jupyter-widgets/base",
     "model_name": "LayoutModel",
     "state": {
      "_model_module": "@jupyter-widgets/base",
      "_model_module_version": "1.2.0",
      "_model_name": "LayoutModel",
      "_view_count": null,
      "_view_module": "@jupyter-widgets/base",
      "_view_module_version": "1.2.0",
      "_view_name": "LayoutView",
      "align_content": null,
      "align_items": null,
      "align_self": null,
      "border": null,
      "bottom": null,
      "display": null,
      "flex": null,
      "flex_flow": null,
      "grid_area": null,
      "grid_auto_columns": null,
      "grid_auto_flow": null,
      "grid_auto_rows": null,
      "grid_column": null,
      "grid_gap": null,
      "grid_row": null,
      "grid_template_areas": null,
      "grid_template_columns": null,
      "grid_template_rows": null,
      "height": null,
      "justify_content": null,
      "justify_items": null,
      "left": null,
      "margin": null,
      "max_height": null,
      "max_width": null,
      "min_height": null,
      "min_width": null,
      "object_fit": null,
      "object_position": null,
      "order": null,
      "overflow": null,
      "overflow_x": null,
      "overflow_y": null,
      "padding": null,
      "right": null,
      "top": null,
      "visibility": null,
      "width": null
     }
    },
    "4757025924a242268916ec5a7018047d": {
     "model_module": "@jupyter-widgets/controls",
     "model_name": "IntProgressModel",
     "state": {
      "_dom_classes": [],
      "_model_module": "@jupyter-widgets/controls",
      "_model_module_version": "1.5.0",
      "_model_name": "IntProgressModel",
      "_view_count": null,
      "_view_module": "@jupyter-widgets/controls",
      "_view_module_version": "1.5.0",
      "_view_name": "ProgressView",
      "bar_style": "",
      "description": "Epoch",
      "description_tooltip": null,
      "layout": "IPY_MODEL_8ad5177faa894bf6902daa3274d11007",
      "max": 100,
      "min": 0,
      "orientation": "horizontal",
      "style": "IPY_MODEL_8a648738a4ba45b5965a917fe4beab92",
      "value": 99
     }
    },
    "4a5f8210c0314f6a924f3fbb1f816a47": {
     "model_module": "@jupyter-widgets/controls",
     "model_name": "ProgressStyleModel",
     "state": {
      "_model_module": "@jupyter-widgets/controls",
      "_model_module_version": "1.5.0",
      "_model_name": "ProgressStyleModel",
      "_view_count": null,
      "_view_module": "@jupyter-widgets/base",
      "_view_module_version": "1.2.0",
      "_view_name": "StyleView",
      "bar_color": null,
      "description_width": "initial"
     }
    },
    "698eb0108e154b799b0bc85f12215c54": {
     "model_module": "@jupyter-widgets/controls",
     "model_name": "HBoxModel",
     "state": {
      "_dom_classes": [],
      "_model_module": "@jupyter-widgets/controls",
      "_model_module_version": "1.5.0",
      "_model_name": "HBoxModel",
      "_view_count": null,
      "_view_module": "@jupyter-widgets/controls",
      "_view_module_version": "1.5.0",
      "_view_name": "HBoxView",
      "box_style": "",
      "children": [
       "IPY_MODEL_8d83151bc7c540e1824cfaf1079c2649",
       "IPY_MODEL_15f9f7bea21447a587cbe113bd8f1db8"
      ],
      "layout": "IPY_MODEL_e43bfafcb08344a89b3c4bbc1e4c1045"
     }
    },
    "6cbb0ecbf2534e808d11b8b73f4381dc": {
     "model_module": "@jupyter-widgets/base",
     "model_name": "LayoutModel",
     "state": {
      "_model_module": "@jupyter-widgets/base",
      "_model_module_version": "1.2.0",
      "_model_name": "LayoutModel",
      "_view_count": null,
      "_view_module": "@jupyter-widgets/base",
      "_view_module_version": "1.2.0",
      "_view_name": "LayoutView",
      "align_content": null,
      "align_items": null,
      "align_self": null,
      "border": null,
      "bottom": null,
      "display": null,
      "flex": null,
      "flex_flow": null,
      "grid_area": null,
      "grid_auto_columns": null,
      "grid_auto_flow": null,
      "grid_auto_rows": null,
      "grid_column": null,
      "grid_gap": null,
      "grid_row": null,
      "grid_template_areas": null,
      "grid_template_columns": null,
      "grid_template_rows": null,
      "height": null,
      "justify_content": null,
      "justify_items": null,
      "left": null,
      "margin": null,
      "max_height": null,
      "max_width": null,
      "min_height": null,
      "min_width": null,
      "object_fit": null,
      "object_position": null,
      "order": null,
      "overflow": null,
      "overflow_x": null,
      "overflow_y": null,
      "padding": null,
      "right": null,
      "top": null,
      "visibility": null,
      "width": null
     }
    },
    "6eacf0262ddb4c908b71a45db6c47756": {
     "model_module": "@jupyter-widgets/base",
     "model_name": "LayoutModel",
     "state": {
      "_model_module": "@jupyter-widgets/base",
      "_model_module_version": "1.2.0",
      "_model_name": "LayoutModel",
      "_view_count": null,
      "_view_module": "@jupyter-widgets/base",
      "_view_module_version": "1.2.0",
      "_view_name": "LayoutView",
      "align_content": null,
      "align_items": null,
      "align_self": null,
      "border": null,
      "bottom": null,
      "display": null,
      "flex": null,
      "flex_flow": null,
      "grid_area": null,
      "grid_auto_columns": null,
      "grid_auto_flow": null,
      "grid_auto_rows": null,
      "grid_column": null,
      "grid_gap": null,
      "grid_row": null,
      "grid_template_areas": null,
      "grid_template_columns": null,
      "grid_template_rows": null,
      "height": null,
      "justify_content": null,
      "justify_items": null,
      "left": null,
      "margin": null,
      "max_height": null,
      "max_width": null,
      "min_height": null,
      "min_width": null,
      "object_fit": null,
      "object_position": null,
      "order": null,
      "overflow": null,
      "overflow_x": null,
      "overflow_y": null,
      "padding": null,
      "right": null,
      "top": null,
      "visibility": null,
      "width": null
     }
    },
    "79a82421d1d74b9483c3ebeff28a246e": {
     "model_module": "@jupyter-widgets/controls",
     "model_name": "HTMLModel",
     "state": {
      "_dom_classes": [],
      "_model_module": "@jupyter-widgets/controls",
      "_model_module_version": "1.5.0",
      "_model_name": "HTMLModel",
      "_view_count": null,
      "_view_module": "@jupyter-widgets/controls",
      "_view_module_version": "1.5.0",
      "_view_name": "HTMLView",
      "description": "",
      "description_tooltip": null,
      "layout": "IPY_MODEL_0c17d72b33444ac1acec6d4ecbe99adb",
      "placeholder": "​",
      "style": "IPY_MODEL_a48a69ade6ae45709aa89cf468a9e82a",
      "value": "100% 20/20 [02:12&lt;00:00,  6.89s/it]"
     }
    },
    "7a7a1e7d8184498cbeba151e810b063d": {
     "model_module": "@jupyter-widgets/controls",
     "model_name": "HBoxModel",
     "state": {
      "_dom_classes": [],
      "_model_module": "@jupyter-widgets/controls",
      "_model_module_version": "1.5.0",
      "_model_name": "HBoxModel",
      "_view_count": null,
      "_view_module": "@jupyter-widgets/controls",
      "_view_module_version": "1.5.0",
      "_view_name": "HBoxView",
      "box_style": "",
      "children": [
       "IPY_MODEL_4757025924a242268916ec5a7018047d",
       "IPY_MODEL_c5835b4964d14f1dbfdf3cdd9f60d494"
      ],
      "layout": "IPY_MODEL_6cbb0ecbf2534e808d11b8b73f4381dc"
     }
    },
    "7e4cec4e23d6474b99b1f33e9318e794": {
     "model_module": "@jupyter-widgets/base",
     "model_name": "LayoutModel",
     "state": {
      "_model_module": "@jupyter-widgets/base",
      "_model_module_version": "1.2.0",
      "_model_name": "LayoutModel",
      "_view_count": null,
      "_view_module": "@jupyter-widgets/base",
      "_view_module_version": "1.2.0",
      "_view_name": "LayoutView",
      "align_content": null,
      "align_items": null,
      "align_self": null,
      "border": null,
      "bottom": null,
      "display": null,
      "flex": null,
      "flex_flow": null,
      "grid_area": null,
      "grid_auto_columns": null,
      "grid_auto_flow": null,
      "grid_auto_rows": null,
      "grid_column": null,
      "grid_gap": null,
      "grid_row": null,
      "grid_template_areas": null,
      "grid_template_columns": null,
      "grid_template_rows": null,
      "height": null,
      "justify_content": null,
      "justify_items": null,
      "left": null,
      "margin": null,
      "max_height": null,
      "max_width": null,
      "min_height": null,
      "min_width": null,
      "object_fit": null,
      "object_position": null,
      "order": null,
      "overflow": null,
      "overflow_x": null,
      "overflow_y": null,
      "padding": null,
      "right": null,
      "top": null,
      "visibility": null,
      "width": null
     }
    },
    "8942e1f4d98b4c9385c19d450958e4e8": {
     "model_module": "@jupyter-widgets/base",
     "model_name": "LayoutModel",
     "state": {
      "_model_module": "@jupyter-widgets/base",
      "_model_module_version": "1.2.0",
      "_model_name": "LayoutModel",
      "_view_count": null,
      "_view_module": "@jupyter-widgets/base",
      "_view_module_version": "1.2.0",
      "_view_name": "LayoutView",
      "align_content": null,
      "align_items": null,
      "align_self": null,
      "border": null,
      "bottom": null,
      "display": null,
      "flex": null,
      "flex_flow": null,
      "grid_area": null,
      "grid_auto_columns": null,
      "grid_auto_flow": null,
      "grid_auto_rows": null,
      "grid_column": null,
      "grid_gap": null,
      "grid_row": null,
      "grid_template_areas": null,
      "grid_template_columns": null,
      "grid_template_rows": null,
      "height": null,
      "justify_content": null,
      "justify_items": null,
      "left": null,
      "margin": null,
      "max_height": null,
      "max_width": null,
      "min_height": null,
      "min_width": null,
      "object_fit": null,
      "object_position": null,
      "order": null,
      "overflow": null,
      "overflow_x": null,
      "overflow_y": null,
      "padding": null,
      "right": null,
      "top": null,
      "visibility": null,
      "width": null
     }
    },
    "8a648738a4ba45b5965a917fe4beab92": {
     "model_module": "@jupyter-widgets/controls",
     "model_name": "ProgressStyleModel",
     "state": {
      "_model_module": "@jupyter-widgets/controls",
      "_model_module_version": "1.5.0",
      "_model_name": "ProgressStyleModel",
      "_view_count": null,
      "_view_module": "@jupyter-widgets/base",
      "_view_module_version": "1.2.0",
      "_view_name": "StyleView",
      "bar_color": null,
      "description_width": "initial"
     }
    },
    "8ad5177faa894bf6902daa3274d11007": {
     "model_module": "@jupyter-widgets/base",
     "model_name": "LayoutModel",
     "state": {
      "_model_module": "@jupyter-widgets/base",
      "_model_module_version": "1.2.0",
      "_model_name": "LayoutModel",
      "_view_count": null,
      "_view_module": "@jupyter-widgets/base",
      "_view_module_version": "1.2.0",
      "_view_name": "LayoutView",
      "align_content": null,
      "align_items": null,
      "align_self": null,
      "border": null,
      "bottom": null,
      "display": null,
      "flex": null,
      "flex_flow": null,
      "grid_area": null,
      "grid_auto_columns": null,
      "grid_auto_flow": null,
      "grid_auto_rows": null,
      "grid_column": null,
      "grid_gap": null,
      "grid_row": null,
      "grid_template_areas": null,
      "grid_template_columns": null,
      "grid_template_rows": null,
      "height": null,
      "justify_content": null,
      "justify_items": null,
      "left": null,
      "margin": null,
      "max_height": null,
      "max_width": null,
      "min_height": null,
      "min_width": null,
      "object_fit": null,
      "object_position": null,
      "order": null,
      "overflow": null,
      "overflow_x": null,
      "overflow_y": null,
      "padding": null,
      "right": null,
      "top": null,
      "visibility": null,
      "width": null
     }
    },
    "8d83151bc7c540e1824cfaf1079c2649": {
     "model_module": "@jupyter-widgets/controls",
     "model_name": "IntProgressModel",
     "state": {
      "_dom_classes": [],
      "_model_module": "@jupyter-widgets/controls",
      "_model_module_version": "1.5.0",
      "_model_name": "IntProgressModel",
      "_view_count": null,
      "_view_module": "@jupyter-widgets/controls",
      "_view_module_version": "1.5.0",
      "_view_name": "ProgressView",
      "bar_style": "",
      "description": "Epoch",
      "description_tooltip": null,
      "layout": "IPY_MODEL_26279b5b00d249d08db193c5d458d788",
      "max": 250,
      "min": 0,
      "orientation": "horizontal",
      "style": "IPY_MODEL_4a5f8210c0314f6a924f3fbb1f816a47",
      "value": 250
     }
    },
    "925588a883d24a239f2dce621f3c3474": {
     "model_module": "@jupyter-widgets/controls",
     "model_name": "DescriptionStyleModel",
     "state": {
      "_model_module": "@jupyter-widgets/controls",
      "_model_module_version": "1.5.0",
      "_model_name": "DescriptionStyleModel",
      "_view_count": null,
      "_view_module": "@jupyter-widgets/base",
      "_view_module_version": "1.2.0",
      "_view_name": "StyleView",
      "description_width": ""
     }
    },
    "a1ddcfc21b7242aa81b49c0ebfad1b10": {
     "model_module": "@jupyter-widgets/controls",
     "model_name": "IntProgressModel",
     "state": {
      "_dom_classes": [],
      "_model_module": "@jupyter-widgets/controls",
      "_model_module_version": "1.5.0",
      "_model_name": "IntProgressModel",
      "_view_count": null,
      "_view_module": "@jupyter-widgets/controls",
      "_view_module_version": "1.5.0",
      "_view_name": "ProgressView",
      "bar_style": "",
      "description": "Epoch",
      "description_tooltip": null,
      "layout": "IPY_MODEL_6eacf0262ddb4c908b71a45db6c47756",
      "max": 20,
      "min": 0,
      "orientation": "horizontal",
      "style": "IPY_MODEL_cca9f1ae95de4905a514cd177bdfb314",
      "value": 20
     }
    },
    "a48a69ade6ae45709aa89cf468a9e82a": {
     "model_module": "@jupyter-widgets/controls",
     "model_name": "DescriptionStyleModel",
     "state": {
      "_model_module": "@jupyter-widgets/controls",
      "_model_module_version": "1.5.0",
      "_model_name": "DescriptionStyleModel",
      "_view_count": null,
      "_view_module": "@jupyter-widgets/base",
      "_view_module_version": "1.2.0",
      "_view_name": "StyleView",
      "description_width": ""
     }
    },
    "af99978dfe194c5cabc7a22566a73f32": {
     "model_module": "@jupyter-widgets/base",
     "model_name": "LayoutModel",
     "state": {
      "_model_module": "@jupyter-widgets/base",
      "_model_module_version": "1.2.0",
      "_model_name": "LayoutModel",
      "_view_count": null,
      "_view_module": "@jupyter-widgets/base",
      "_view_module_version": "1.2.0",
      "_view_name": "LayoutView",
      "align_content": null,
      "align_items": null,
      "align_self": null,
      "border": null,
      "bottom": null,
      "display": null,
      "flex": null,
      "flex_flow": null,
      "grid_area": null,
      "grid_auto_columns": null,
      "grid_auto_flow": null,
      "grid_auto_rows": null,
      "grid_column": null,
      "grid_gap": null,
      "grid_row": null,
      "grid_template_areas": null,
      "grid_template_columns": null,
      "grid_template_rows": null,
      "height": null,
      "justify_content": null,
      "justify_items": null,
      "left": null,
      "margin": null,
      "max_height": null,
      "max_width": null,
      "min_height": null,
      "min_width": null,
      "object_fit": null,
      "object_position": null,
      "order": null,
      "overflow": null,
      "overflow_x": null,
      "overflow_y": null,
      "padding": null,
      "right": null,
      "top": null,
      "visibility": null,
      "width": null
     }
    },
    "c5835b4964d14f1dbfdf3cdd9f60d494": {
     "model_module": "@jupyter-widgets/controls",
     "model_name": "HTMLModel",
     "state": {
      "_dom_classes": [],
      "_model_module": "@jupyter-widgets/controls",
      "_model_module_version": "1.5.0",
      "_model_name": "HTMLModel",
      "_view_count": null,
      "_view_module": "@jupyter-widgets/controls",
      "_view_module_version": "1.5.0",
      "_view_name": "HTMLView",
      "description": "",
      "description_tooltip": null,
      "layout": "IPY_MODEL_8942e1f4d98b4c9385c19d450958e4e8",
      "placeholder": "​",
      "style": "IPY_MODEL_d4ae5b64ad24438eb6444532de970923",
      "value": " 99% 99/100 [00:08&lt;00:00, 11.51it/s]"
     }
    },
    "cca9f1ae95de4905a514cd177bdfb314": {
     "model_module": "@jupyter-widgets/controls",
     "model_name": "ProgressStyleModel",
     "state": {
      "_model_module": "@jupyter-widgets/controls",
      "_model_module_version": "1.5.0",
      "_model_name": "ProgressStyleModel",
      "_view_count": null,
      "_view_module": "@jupyter-widgets/base",
      "_view_module_version": "1.2.0",
      "_view_name": "StyleView",
      "bar_color": null,
      "description_width": "initial"
     }
    },
    "d4ae5b64ad24438eb6444532de970923": {
     "model_module": "@jupyter-widgets/controls",
     "model_name": "DescriptionStyleModel",
     "state": {
      "_model_module": "@jupyter-widgets/controls",
      "_model_module_version": "1.5.0",
      "_model_name": "DescriptionStyleModel",
      "_view_count": null,
      "_view_module": "@jupyter-widgets/base",
      "_view_module_version": "1.2.0",
      "_view_name": "StyleView",
      "description_width": ""
     }
    },
    "e43bfafcb08344a89b3c4bbc1e4c1045": {
     "model_module": "@jupyter-widgets/base",
     "model_name": "LayoutModel",
     "state": {
      "_model_module": "@jupyter-widgets/base",
      "_model_module_version": "1.2.0",
      "_model_name": "LayoutModel",
      "_view_count": null,
      "_view_module": "@jupyter-widgets/base",
      "_view_module_version": "1.2.0",
      "_view_name": "LayoutView",
      "align_content": null,
      "align_items": null,
      "align_self": null,
      "border": null,
      "bottom": null,
      "display": null,
      "flex": null,
      "flex_flow": null,
      "grid_area": null,
      "grid_auto_columns": null,
      "grid_auto_flow": null,
      "grid_auto_rows": null,
      "grid_column": null,
      "grid_gap": null,
      "grid_row": null,
      "grid_template_areas": null,
      "grid_template_columns": null,
      "grid_template_rows": null,
      "height": null,
      "justify_content": null,
      "justify_items": null,
      "left": null,
      "margin": null,
      "max_height": null,
      "max_width": null,
      "min_height": null,
      "min_width": null,
      "object_fit": null,
      "object_position": null,
      "order": null,
      "overflow": null,
      "overflow_x": null,
      "overflow_y": null,
      "padding": null,
      "right": null,
      "top": null,
      "visibility": null,
      "width": null
     }
    }
   }
  }
 },
 "nbformat": 4,
 "nbformat_minor": 4
}
